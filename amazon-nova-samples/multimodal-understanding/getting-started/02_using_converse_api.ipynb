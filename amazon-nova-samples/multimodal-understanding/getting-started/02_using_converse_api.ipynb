{
 "cells": [
  {
   "cell_type": "markdown",
   "id": "7cb107f7-2b50-4f49-8800-4044c2ad1bf0",
   "metadata": {},
   "source": [
    "## Using Converse API"
   ]
  },
  {
   "cell_type": "markdown",
   "id": "f2672d9d-4feb-4590-8839-687f0b62a1c8",
   "metadata": {},
   "source": [
    "The following examples show how to interact with Nova via the Converse API ([API Docs](https://boto3.amazonaws.com/v1/documentation/api/latest/reference/services/bedrock-runtime/client/converse.html))"
   ]
  },
  {
   "cell_type": "code",
   "execution_count": 1,
   "id": "eef573d5",
   "metadata": {},
   "outputs": [],
   "source": [
    "import boto3\n",
    "import json\n",
    "import base64\n",
    "\n",
    "# Create a Bedrock Runtime client\n",
    "client = boto3.client(\"bedrock-runtime\", region_name=\"us-east-1\")\n",
    "\n",
    "PRO_MODEL_ID = \"us.amazon.nova-pro-v1:0\"\n",
    "LITE_MODEL_ID = \"us.amazon.nova-lite-v1:0\"\n",
    "MICRO_MODEL_ID = \"us.amazon.nova-micro-v1:0\"\n"
   ]
  },
  {
   "cell_type": "markdown",
   "id": "c277e63b-dcb3-4c68-835c-70638d35955a",
   "metadata": {},
   "source": [
    "### **Single Turn**"
   ]
  },
  {
   "cell_type": "code",
   "execution_count": 2,
   "id": "e941d9b0-31ba-47bf-a064-3a41204c89ce",
   "metadata": {},
   "outputs": [
    {
     "name": "stdout",
     "output_type": "stream",
     "text": [
      "\n",
      "[Full Response]\n",
      "{\n",
      "  \"ResponseMetadata\": {\n",
      "    \"RequestId\": \"d9706b0a-d4af-47b2-9ebe-e54f95f1c4f6\",\n",
      "    \"HTTPStatusCode\": 200,\n",
      "    \"HTTPHeaders\": {\n",
      "      \"date\": \"Thu, 12 Dec 2024 07:31:55 GMT\",\n",
      "      \"content-type\": \"application/json\",\n",
      "      \"content-length\": \"493\",\n",
      "      \"connection\": \"keep-alive\",\n",
      "      \"x-amzn-requestid\": \"d9706b0a-d4af-47b2-9ebe-e54f95f1c4f6\"\n",
      "    },\n",
      "    \"RetryAttempts\": 0\n",
      "  },\n",
      "  \"output\": {\n",
      "    \"message\": {\n",
      "      \"role\": \"assistant\",\n",
      "      \"content\": [\n",
      "        {\n",
      "          \"text\": \"Certainly! Here are three potential book titles for a child graduating from high school:\\n\\n1. **\\\"Stepping Stones: A Journey Through High School Graduation\\\"**\\n2. **\\\"From Classmate to Graduate: Celebrating Your High School Milestone\\\"**\\n3. **\\\"The Final Bell: A Guide to High School Graduation and Beyond\\\"**\"\n",
      "        }\n",
      "      ]\n",
      "    }\n",
      "  },\n",
      "  \"stopReason\": \"end_turn\",\n",
      "  \"usage\": {\n",
      "    \"inputTokens\": 24,\n",
      "    \"outputTokens\": 67,\n",
      "    \"totalTokens\": 91\n",
      "  },\n",
      "  \"metrics\": {\n",
      "    \"latencyMs\": 658\n",
      "  }\n",
      "}\n",
      "\n",
      "[Response Content Text]\n",
      "Certainly! Here are three potential book titles for a child graduating from high school:\n",
      "\n",
      "1. **\"Stepping Stones: A Journey Through High School Graduation\"**\n",
      "2. **\"From Classmate to Graduate: Celebrating Your High School Milestone\"**\n",
      "3. **\"The Final Bell: A Guide to High School Graduation and Beyond\"**\n"
     ]
    }
   ],
   "source": [
    "\n",
    "# Define your system prompt(s).\n",
    "system = [\n",
    "    {\n",
    "        \"text\": \"You are an experienced publisher. For each user topic, respond with 3 potential book titles\"\n",
    "    }\n",
    "]\n",
    "\n",
    "# Your user prompt\n",
    "messages = [\n",
    "    {\"role\": \"user\", \"content\": [{\"text\": \"a child graduating from high school\"}]},\n",
    "]\n",
    "\n",
    "# Configure the inference parameters.\n",
    "inf_params = {\"maxTokens\": 300, \"topP\": 0.1, \"temperature\": 0.3}\n",
    "\n",
    "model_response = client.converse(\n",
    "    modelId=LITE_MODEL_ID, messages=messages, system=system, inferenceConfig=inf_params\n",
    ")\n",
    "\n",
    "print(\"\\n[Full Response]\")\n",
    "print(json.dumps(model_response, indent=2))\n",
    "\n",
    "print(\"\\n[Response Content Text]\")\n",
    "print(model_response[\"output\"][\"message\"][\"content\"][0][\"text\"])"
   ]
  },
  {
   "cell_type": "markdown",
   "id": "2c477fc4-3ec1-4c0e-8f20-5987d50e8414",
   "metadata": {},
   "source": [
    "### **Multi Turn**"
   ]
  },
  {
   "cell_type": "code",
   "execution_count": 3,
   "id": "11cb0a46-dedf-415a-8c9e-680d6d0db8eb",
   "metadata": {},
   "outputs": [
    {
     "name": "stdout",
     "output_type": "stream",
     "text": [
      "\n",
      "[Full Response]\n",
      "{\n",
      "  \"ResponseMetadata\": {\n",
      "    \"RequestId\": \"6ceace38-c793-4cc0-8244-145fd49ce106\",\n",
      "    \"HTTPStatusCode\": 200,\n",
      "    \"HTTPHeaders\": {\n",
      "      \"date\": \"Thu, 12 Dec 2024 07:32:00 GMT\",\n",
      "      \"content-type\": \"application/json\",\n",
      "      \"content-length\": \"1334\",\n",
      "      \"connection\": \"keep-alive\",\n",
      "      \"x-amzn-requestid\": \"6ceace38-c793-4cc0-8244-145fd49ce106\"\n",
      "    },\n",
      "    \"RetryAttempts\": 0\n",
      "  },\n",
      "  \"output\": {\n",
      "    \"message\": {\n",
      "      \"role\": \"assistant\",\n",
      "      \"content\": [\n",
      "        {\n",
      "          \"text\": \"The first day of the week is considered to be different depending on cultural, religious, and regional contexts.\\n\\nIn many Western countries, including the United States, Canada, and much of Europe, the week is considered to begin on Sunday. This is based on the Christian tradition, which regards Sunday as the first day of the week because it is the day of the week on which Jesus Christ was resurrected.\\n\\nIn other parts of the world, such as the Middle East and some Asian countries, the week is considered to begin on Monday. This is based on the Gregorian calendar, which was introduced by Pope Gregory XIII in 1582 and is widely used today. In this calendar, the days of the week are numbered, with Sunday being the first day (numbered 1) and Saturday being the last day (numbered 7).\\n\\nIn Israel, the week is considered to begin on Sunday, which is the first day of the week, and end on Saturday, which is the seventh day and the day of rest in the Jewish tradition.\\n\\nUltimately, the choice of which day is considered the first day of the week is a matter of cultural and personal preference, and there is no universally accepted answer.\"\n",
      "        }\n",
      "      ]\n",
      "    }\n",
      "  },\n",
      "  \"stopReason\": \"end_turn\",\n",
      "  \"usage\": {\n",
      "    \"inputTokens\": 26,\n",
      "    \"outputTokens\": 237,\n",
      "    \"totalTokens\": 263\n",
      "  },\n",
      "  \"metrics\": {\n",
      "    \"latencyMs\": 2001\n",
      "  }\n",
      "}\n",
      "The first day of the week is considered to be different depending on cultural, religious, and regional contexts.\n",
      "\n",
      "In many Western countries, including the United States, Canada, and much of Europe, the week is considered to begin on Sunday. This is based on the Christian tradition, which regards Sunday as the first day of the week because it is the day of the week on which Jesus Christ was resurrected.\n",
      "\n",
      "In other parts of the world, such as the Middle East and some Asian countries, the week is considered to begin on Monday. This is based on the Gregorian calendar, which was introduced by Pope Gregory XIII in 1582 and is widely used today. In this calendar, the days of the week are numbered, with Sunday being the first day (numbered 1) and Saturday being the last day (numbered 7).\n",
      "\n",
      "In Israel, the week is considered to begin on Sunday, which is the first day of the week, and end on Saturday, which is the seventh day and the day of rest in the Jewish tradition.\n",
      "\n",
      "Ultimately, the choice of which day is considered the first day of the week is a matter of cultural and personal preference, and there is no universally accepted answer.\n"
     ]
    }
   ],
   "source": [
    "\n",
    "# Define one or more messages using the \"user\" and \"assistant\" roles.\n",
    "messages = [\n",
    "    {\"role\": \"user\", \"content\": [{\"text\": \"How many days are in a week?\"}]},\n",
    "    {\"role\": \"assistant\", \"content\": [{\"text\": \"There are seven days in a week\"}]},\n",
    "    {\"role\": \"user\", \"content\": [{\"text\": \"Which day is the first?\"}]},\n",
    "]\n",
    "\n",
    "# Configure the inference parameters.\n",
    "inf_params = {\"maxTokens\": 300, \"topP\": 0.1, \"temperature\": 0.3}\n",
    "\n",
    "model_response = client.converse(\n",
    "    modelId=LITE_MODEL_ID, messages=messages, inferenceConfig=inf_params\n",
    ")\n",
    "\n",
    "print(\"\\n[Full Response]\")\n",
    "print(json.dumps(model_response, indent=2))\n",
    "\n",
    "print(model_response[\"output\"][\"message\"][\"content\"][0][\"text\"])"
   ]
  },
  {
   "cell_type": "markdown",
   "id": "a47111bd-2044-43e5-94be-1628ccd508ae",
   "metadata": {},
   "source": [
    "### **Streaming**"
   ]
  },
  {
   "cell_type": "code",
   "execution_count": 4,
   "id": "01346b0b-0b74-41aa-b1e2-2e0c2c27f2c7",
   "metadata": {},
   "outputs": [
    {
     "name": "stdout",
     "output_type": "stream",
     "text": [
      "Sure, here are three potential titles for a short story about a camping trip:\n",
      "\n",
      "1. \"Whispers in the Wilderness\"\n",
      "2. \"The Night the Stars Fell\"\n",
      "3. \"Echoes by the Campfire\""
     ]
    }
   ],
   "source": [
    "\n",
    "# Define your system prompt(s).\n",
    "system = [\n",
    "    {\n",
    "        \"text\": \"Act as a creative writing assistant. When the user provides you with a topic, provide a list of 3 potential titles for a short story based on that topic.\"\n",
    "    }\n",
    "]\n",
    "\n",
    "messages = [\n",
    "    {\"role\": \"user\", \"content\": [{\"text\": \"A camping trip\"}]},\n",
    "]\n",
    "\n",
    "# Configure the inference parameters.\n",
    "inf_params = {\"maxTokens\": 300, \"topP\": 0.1, \"temperature\": 0.3}\n",
    "\n",
    "model_response = client.converse_stream(\n",
    "    modelId=LITE_MODEL_ID, messages=messages, system=system, inferenceConfig=inf_params\n",
    ")\n",
    "\n",
    "stream = model_response.get(\"stream\")\n",
    "if stream:\n",
    "    for event in stream:\n",
    "        if \"contentBlockDelta\" in event:\n",
    "            print(event[\"contentBlockDelta\"][\"delta\"][\"text\"], end=\"\")"
   ]
  },
  {
   "cell_type": "markdown",
   "id": "66712974-eb8a-4d6c-a803-fe83660b0fd9",
   "metadata": {},
   "source": [
    "### **Image Understanding**"
   ]
  },
  {
   "cell_type": "code",
   "execution_count": 5,
   "id": "dfa569ae-5dfb-4a32-a96b-427fbb04a3c6",
   "metadata": {},
   "outputs": [
    {
     "name": "stdout",
     "output_type": "stream",
     "text": [
      "\n",
      "[Full Response]\n",
      "{\n",
      "  \"ResponseMetadata\": {\n",
      "    \"RequestId\": \"d136a2d2-0188-4c10-ab67-e68338dc83cb\",\n",
      "    \"HTTPStatusCode\": 200,\n",
      "    \"HTTPHeaders\": {\n",
      "      \"date\": \"Thu, 12 Dec 2024 07:32:09 GMT\",\n",
      "      \"content-type\": \"application/json\",\n",
      "      \"content-length\": \"871\",\n",
      "      \"connection\": \"keep-alive\",\n",
      "      \"x-amzn-requestid\": \"d136a2d2-0188-4c10-ab67-e68338dc83cb\"\n",
      "    },\n",
      "    \"RetryAttempts\": 0\n",
      "  },\n",
      "  \"output\": {\n",
      "    \"message\": {\n",
      "      \"role\": \"assistant\",\n",
      "      \"content\": [\n",
      "        {\n",
      "          \"text\": \"The image depicts a serene and picturesque sunset scene. The sky is a gradient of warm colors, transitioning from deep orange near the horizon to lighter yellows and whites higher up. The sun is partially obscured by a silhouette of mountains, adding depth to the scene. The sun's rays cast a golden hue over the landscape, creating a tranquil and peaceful atmosphere. In the foreground, there is a body of water, possibly a lake or sea, reflecting the vibrant colors of the sunset. The water is calm, with gentle ripples adding a sense of movement. The overall composition is harmonious, with the natural elements blending seamlessly to create a visually appealing and calming scene.\"\n",
      "        }\n",
      "      ]\n",
      "    }\n",
      "  },\n",
      "  \"stopReason\": \"end_turn\",\n",
      "  \"usage\": {\n",
      "    \"inputTokens\": 1318,\n",
      "    \"outputTokens\": 132,\n",
      "    \"totalTokens\": 1450\n",
      "  },\n",
      "  \"metrics\": {\n",
      "    \"latencyMs\": 2055\n",
      "  }\n",
      "}\n",
      "The image depicts a serene and picturesque sunset scene. The sky is a gradient of warm colors, transitioning from deep orange near the horizon to lighter yellows and whites higher up. The sun is partially obscured by a silhouette of mountains, adding depth to the scene. The sun's rays cast a golden hue over the landscape, creating a tranquil and peaceful atmosphere. In the foreground, there is a body of water, possibly a lake or sea, reflecting the vibrant colors of the sunset. The water is calm, with gentle ripples adding a sense of movement. The overall composition is harmonious, with the natural elements blending seamlessly to create a visually appealing and calming scene.\n"
     ]
    }
   ],
   "source": [
    "\n",
    "with open(\"media/sunset.png\", \"rb\") as f:\n",
    "    image = f.read()\n",
    "\n",
    "messages = [\n",
    "    {\n",
    "        \"role\": \"user\",\n",
    "        \"content\": [\n",
    "            {\"image\": {\"format\": \"png\", \"source\": {\"bytes\": image}}},\n",
    "            {\"text\": \"Describe the following image\"},\n",
    "        ],\n",
    "    }\n",
    "]\n",
    "\n",
    "inf_params = {\"maxTokens\": 300, \"topP\": 0.1, \"temperature\": 0.3}\n",
    "\n",
    "model_response = client.converse(\n",
    "    modelId=LITE_MODEL_ID, messages=messages, inferenceConfig=inf_params\n",
    ")\n",
    "\n",
    "print(\"\\n[Full Response]\")\n",
    "print(json.dumps(model_response, indent=2))\n",
    "\n",
    "print(model_response[\"output\"][\"message\"][\"content\"][0][\"text\"])"
   ]
  },
  {
   "cell_type": "markdown",
   "id": "a5fa0a50-fd15-42ba-806c-889bcf261c62",
   "metadata": {},
   "source": [
    "### **Video Understanding**\n"
   ]
  },
  {
   "cell_type": "code",
   "execution_count": 6,
   "id": "4bef1a0a-282c-411d-a553-37432d40789d",
   "metadata": {},
   "outputs": [
    {
     "name": "stdout",
     "output_type": "stream",
     "text": [
      "\n",
      "[Full Response]\n",
      "{\n",
      "  \"ResponseMetadata\": {\n",
      "    \"RequestId\": \"f6adacd8-e8de-4d55-8f9a-fde93b51cf97\",\n",
      "    \"HTTPStatusCode\": 200,\n",
      "    \"HTTPHeaders\": {\n",
      "      \"date\": \"Thu, 12 Dec 2024 07:32:17 GMT\",\n",
      "      \"content-type\": \"application/json\",\n",
      "      \"content-length\": \"545\",\n",
      "      \"connection\": \"keep-alive\",\n",
      "      \"x-amzn-requestid\": \"f6adacd8-e8de-4d55-8f9a-fde93b51cf97\"\n",
      "    },\n",
      "    \"RetryAttempts\": 0\n",
      "  },\n",
      "  \"output\": {\n",
      "    \"message\": {\n",
      "      \"role\": \"assistant\",\n",
      "      \"content\": [\n",
      "        {\n",
      "          \"text\": \"The video starts with a top view of a rocky shore with waves crashing on the rocks. The camera then zooms in on a large seashell on the sand, with the waves gently washing over it. The shell is a spiral shape with a brown and white pattern. The sand is wet and has small footprints on it. The sun is shining brightly, and the light is reflecting on the water.\"\n",
      "        }\n",
      "      ]\n",
      "    }\n",
      "  },\n",
      "  \"stopReason\": \"end_turn\",\n",
      "  \"usage\": {\n",
      "    \"inputTokens\": 3462,\n",
      "    \"outputTokens\": 80,\n",
      "    \"totalTokens\": 3542\n",
      "  },\n",
      "  \"metrics\": {\n",
      "    \"latencyMs\": 2690\n",
      "  }\n",
      "}\n",
      "\n",
      "[Response Content Text]\n",
      "The video starts with a top view of a rocky shore with waves crashing on the rocks. The camera then zooms in on a large seashell on the sand, with the waves gently washing over it. The shell is a spiral shape with a brown and white pattern. The sand is wet and has small footprints on it. The sun is shining brightly, and the light is reflecting on the water.\n"
     ]
    }
   ],
   "source": [
    "\n",
    "with open(\"./media/the-sea.mp4\", \"rb\") as file:\n",
    "    media_bytes = file.read()\n",
    "    media_base64 = base64.b64encode(media_bytes)\n",
    "\n",
    "\n",
    "messages = [\n",
    "    {\n",
    "        \"role\": \"user\",\n",
    "        \"content\": [\n",
    "            {\"video\": {\"format\": \"mp4\", \"source\": {\"bytes\": media_bytes}}},\n",
    "            {\"text\": \"Describe the following video\"},\n",
    "        ],\n",
    "    }\n",
    "]\n",
    "\n",
    "inf_params = {\"maxTokens\": 300, \"topP\": 0.1, \"temperature\": 0.3}\n",
    "\n",
    "model_response = client.converse(\n",
    "    modelId=LITE_MODEL_ID, messages=messages, inferenceConfig=inf_params\n",
    ")\n",
    "\n",
    "print(\"\\n[Full Response]\")\n",
    "print(json.dumps(model_response, indent=2))\n",
    "\n",
    "print(\"\\n[Response Content Text]\")\n",
    "print(model_response[\"output\"][\"message\"][\"content\"][0][\"text\"])"
   ]
  },
  {
   "cell_type": "markdown",
   "id": "2a2b7f5b-66cc-41f8-9668-90bd599275a7",
   "metadata": {},
   "source": [
    "### S3 Path for Video Understanding "
   ]
  },
  {
   "cell_type": "markdown",
   "id": "5711dfc2-178f-4a6f-b4fb-a69d1c3fb40a",
   "metadata": {},
   "source": [
    "##### Replace the S3 bucket URI with URI where the video file is located"
   ]
  },
  {
   "cell_type": "code",
   "execution_count": 7,
   "id": "098ce021-e214-4246-b533-51907816e344",
   "metadata": {},
   "outputs": [
    {
     "ename": "ValidationException",
     "evalue": "An error occurred (ValidationException) when calling the Converse operation: The model returned the following errors: Your account does not have access to the specified S3 resource.",
     "output_type": "error",
     "traceback": [
      "\u001b[1;31m---------------------------------------------------------------------------\u001b[0m",
      "\u001b[1;31mValidationException\u001b[0m                       Traceback (most recent call last)",
      "Cell \u001b[1;32mIn[7], line 23\u001b[0m\n\u001b[0;32m      1\u001b[0m messages \u001b[38;5;241m=\u001b[39m [\n\u001b[0;32m      2\u001b[0m     {\n\u001b[0;32m      3\u001b[0m         \u001b[38;5;124m\"\u001b[39m\u001b[38;5;124mrole\u001b[39m\u001b[38;5;124m\"\u001b[39m: \u001b[38;5;124m\"\u001b[39m\u001b[38;5;124muser\u001b[39m\u001b[38;5;124m\"\u001b[39m,\n\u001b[1;32m   (...)\u001b[0m\n\u001b[0;32m     18\u001b[0m     }\n\u001b[0;32m     19\u001b[0m ]\n\u001b[0;32m     21\u001b[0m inf_params \u001b[38;5;241m=\u001b[39m {\u001b[38;5;124m\"\u001b[39m\u001b[38;5;124mmaxTokens\u001b[39m\u001b[38;5;124m\"\u001b[39m: \u001b[38;5;241m300\u001b[39m, \u001b[38;5;124m\"\u001b[39m\u001b[38;5;124mtopP\u001b[39m\u001b[38;5;124m\"\u001b[39m: \u001b[38;5;241m0.1\u001b[39m, \u001b[38;5;124m\"\u001b[39m\u001b[38;5;124mtemperature\u001b[39m\u001b[38;5;124m\"\u001b[39m: \u001b[38;5;241m0.3\u001b[39m}\n\u001b[1;32m---> 23\u001b[0m model_response \u001b[38;5;241m=\u001b[39m \u001b[43mclient\u001b[49m\u001b[38;5;241;43m.\u001b[39;49m\u001b[43mconverse\u001b[49m\u001b[43m(\u001b[49m\n\u001b[0;32m     24\u001b[0m \u001b[43m    \u001b[49m\u001b[43mmodelId\u001b[49m\u001b[38;5;241;43m=\u001b[39;49m\u001b[43mLITE_MODEL_ID\u001b[49m\u001b[43m,\u001b[49m\u001b[43m \u001b[49m\u001b[43mmessages\u001b[49m\u001b[38;5;241;43m=\u001b[39;49m\u001b[43mmessages\u001b[49m\u001b[43m,\u001b[49m\u001b[43m \u001b[49m\u001b[43minferenceConfig\u001b[49m\u001b[38;5;241;43m=\u001b[39;49m\u001b[43minf_params\u001b[49m\n\u001b[0;32m     25\u001b[0m \u001b[43m)\u001b[49m\n\u001b[0;32m     27\u001b[0m \u001b[38;5;28mprint\u001b[39m(\u001b[38;5;124m\"\u001b[39m\u001b[38;5;130;01m\\n\u001b[39;00m\u001b[38;5;124m[Full Response]\u001b[39m\u001b[38;5;124m\"\u001b[39m)\n\u001b[0;32m     28\u001b[0m \u001b[38;5;28mprint\u001b[39m(json\u001b[38;5;241m.\u001b[39mdumps(model_response, indent\u001b[38;5;241m=\u001b[39m\u001b[38;5;241m2\u001b[39m))\n",
      "File \u001b[1;32m~\\AppData\\Local\\Packages\\PythonSoftwareFoundation.Python.3.12_qbz5n2kfra8p0\\LocalCache\\local-packages\\Python312\\site-packages\\botocore\\client.py:569\u001b[0m, in \u001b[0;36mClientCreator._create_api_method.<locals>._api_call\u001b[1;34m(self, *args, **kwargs)\u001b[0m\n\u001b[0;32m    565\u001b[0m     \u001b[38;5;28;01mraise\u001b[39;00m \u001b[38;5;167;01mTypeError\u001b[39;00m(\n\u001b[0;32m    566\u001b[0m         \u001b[38;5;124mf\u001b[39m\u001b[38;5;124m\"\u001b[39m\u001b[38;5;132;01m{\u001b[39;00mpy_operation_name\u001b[38;5;132;01m}\u001b[39;00m\u001b[38;5;124m() only accepts keyword arguments.\u001b[39m\u001b[38;5;124m\"\u001b[39m\n\u001b[0;32m    567\u001b[0m     )\n\u001b[0;32m    568\u001b[0m \u001b[38;5;66;03m# The \"self\" in this scope is referring to the BaseClient.\u001b[39;00m\n\u001b[1;32m--> 569\u001b[0m \u001b[38;5;28;01mreturn\u001b[39;00m \u001b[38;5;28;43mself\u001b[39;49m\u001b[38;5;241;43m.\u001b[39;49m\u001b[43m_make_api_call\u001b[49m\u001b[43m(\u001b[49m\u001b[43moperation_name\u001b[49m\u001b[43m,\u001b[49m\u001b[43m \u001b[49m\u001b[43mkwargs\u001b[49m\u001b[43m)\u001b[49m\n",
      "File \u001b[1;32m~\\AppData\\Local\\Packages\\PythonSoftwareFoundation.Python.3.12_qbz5n2kfra8p0\\LocalCache\\local-packages\\Python312\\site-packages\\botocore\\client.py:1023\u001b[0m, in \u001b[0;36mBaseClient._make_api_call\u001b[1;34m(self, operation_name, api_params)\u001b[0m\n\u001b[0;32m   1019\u001b[0m     error_code \u001b[38;5;241m=\u001b[39m error_info\u001b[38;5;241m.\u001b[39mget(\u001b[38;5;124m\"\u001b[39m\u001b[38;5;124mQueryErrorCode\u001b[39m\u001b[38;5;124m\"\u001b[39m) \u001b[38;5;129;01mor\u001b[39;00m error_info\u001b[38;5;241m.\u001b[39mget(\n\u001b[0;32m   1020\u001b[0m         \u001b[38;5;124m\"\u001b[39m\u001b[38;5;124mCode\u001b[39m\u001b[38;5;124m\"\u001b[39m\n\u001b[0;32m   1021\u001b[0m     )\n\u001b[0;32m   1022\u001b[0m     error_class \u001b[38;5;241m=\u001b[39m \u001b[38;5;28mself\u001b[39m\u001b[38;5;241m.\u001b[39mexceptions\u001b[38;5;241m.\u001b[39mfrom_code(error_code)\n\u001b[1;32m-> 1023\u001b[0m     \u001b[38;5;28;01mraise\u001b[39;00m error_class(parsed_response, operation_name)\n\u001b[0;32m   1024\u001b[0m \u001b[38;5;28;01melse\u001b[39;00m:\n\u001b[0;32m   1025\u001b[0m     \u001b[38;5;28;01mreturn\u001b[39;00m parsed_response\n",
      "\u001b[1;31mValidationException\u001b[0m: An error occurred (ValidationException) when calling the Converse operation: The model returned the following errors: Your account does not have access to the specified S3 resource."
     ]
    }
   ],
   "source": [
    "\n",
    "messages = [\n",
    "    {\n",
    "        \"role\": \"user\",\n",
    "        \"content\": [\n",
    "            {\n",
    "                \"video\": {\n",
    "                    \"format\": \"mp4\",\n",
    "                    \"source\": {\n",
    "                        \"s3Location\": {\n",
    "                            #Replace the s3 bucket URI \n",
    "                            \"uri\": \"s3://demo-bucket/the-sea.mp4\"\n",
    "                        }\n",
    "                    },\n",
    "                }\n",
    "            },\n",
    "            {\"text\": \"Describe the following video\"},\n",
    "        ],\n",
    "    }\n",
    "]\n",
    "\n",
    "inf_params = {\"maxTokens\": 300, \"topP\": 0.1, \"temperature\": 0.3}\n",
    "\n",
    "model_response = client.converse(\n",
    "    modelId=LITE_MODEL_ID, messages=messages, inferenceConfig=inf_params\n",
    ")\n",
    "\n",
    "print(\"\\n[Full Response]\")\n",
    "print(json.dumps(model_response, indent=2))\n",
    "\n",
    "print(\"\\n[Response Content Text]\")\n",
    "print(model_response[\"output\"][\"message\"][\"content\"][0][\"text\"])"
   ]
  },
  {
   "cell_type": "code",
   "execution_count": null,
   "id": "f1a57a57-584e-4662-a054-248a8db81d05",
   "metadata": {},
   "outputs": [],
   "source": []
  },
  {
   "cell_type": "code",
   "execution_count": null,
   "id": "f5050323",
   "metadata": {},
   "outputs": [],
   "source": []
  }
 ],
 "metadata": {
  "kernelspec": {
   "display_name": "Python 3",
   "language": "python",
   "name": "python3"
  },
  "language_info": {
   "codemirror_mode": {
    "name": "ipython",
    "version": 3
   },
   "file_extension": ".py",
   "mimetype": "text/x-python",
   "name": "python",
   "nbconvert_exporter": "python",
   "pygments_lexer": "ipython3",
   "version": "3.12.8"
  }
 },
 "nbformat": 4,
 "nbformat_minor": 5
}
